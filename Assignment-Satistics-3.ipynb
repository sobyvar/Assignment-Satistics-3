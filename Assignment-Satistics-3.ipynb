{
 "cells": [
  {
   "cell_type": "code",
   "execution_count": 1,
   "metadata": {},
   "outputs": [
    {
     "name": "stdout",
     "output_type": "stream",
     "text": [
      "Problem Statement 1: Test the hypothesis that the raw cornstarch had an effect or not.\n",
      "\n",
      "Ho:u=100\n",
      "H1:u>100\n",
      "Z score is 3.2\n",
      "P value associate with above z score is 0.9994\n",
      "probability of having value less than 108 is 0.9994\n",
      "probaility of more than or equals to 108 is (1-0.9994)=0.0006.\n",
      "It is less than 0.05 so we will reject the Null hypothesis\n"
     ]
    }
   ],
   "source": [
    "print('Problem Statement 1: Test the hypothesis that the raw cornstarch had an effect or not.')\n",
    "import math\n",
    "print('')\n",
    "print('Ho:u=100')\n",
    "print('H1:u>100')\n",
    "print('Z score is',(108-100)/(15/math.sqrt(36)))\n",
    "print('P value associate with above z score is',0.9994)\n",
    "print('probability of having value less than 108 is 0.9994')\n",
    "print('probaility of more than or equals to 108 is (1-0.9994)=0.0006.')\n",
    "print('It is less than 0.05 so we will reject the Null hypothesis')"
   ]
  },
  {
   "cell_type": "code",
   "execution_count": 2,
   "metadata": {},
   "outputs": [
    {
     "name": "stdout",
     "output_type": "stream",
     "text": [
      "Problem Statement 2: -What is the probability that the survey will show a greater percentage of Republican voters in the second state than in the first state?\n",
      "\n",
      " Mean of the difference in sample proportions: E(p1 - p2) = P1 - P2 = 0.05\n",
      "the standard deviation of the difference.:sd = sqrt{ [ P1(1 - P1) / n1 ] + [ P2(1 - P2) / n2 ] } \n",
      "The first standard deviation value is\n",
      "0.002496\n",
      "The seccond standard deviation value is\n",
      "0.002491\n",
      "The standard deviation of the difference 0.0706\n",
      "\n",
      "z score is  -0.7082\n",
      "Using  Normal Distribution Calculator, we find that the probability of a z-score being -0.7082 or less is 0.24\n",
      "The probability that the survey will show a greater percentage of Republican voters in the second state than in the first state is 0.24\n"
     ]
    }
   ],
   "source": [
    "print('Problem Statement 2: -What is the probability that the survey will show a greater percentage of Republican voters in the second state than in the first state?')\n",
    "import math\n",
    "print('')\n",
    "print(' Mean of the difference in sample proportions: E(p1 - p2) = P1 - P2 =',round((0.52-0.47),2))\n",
    "print('the standard deviation of the difference.:sd = sqrt{ [ P1(1 - P1) / n1 ] + [ P2(1 - P2) / n2 ] } ')\n",
    "print('The first standard deviation value is')\n",
    "x1=((0.52)*(0.48) / 100)\n",
    "print(x1) \n",
    "print('The seccond standard deviation value is')\n",
    "x2=((0.47)*(0.53) / 100)\n",
    "print(round(x2,6))\n",
    "print('The standard deviation of the difference',round(math.sqrt(x1+round(x2,6)),4))\n",
    "print('')\n",
    "print('z score is ',round((0-0.05)/round(math.sqrt(x1+round(x2,6)),4),4))\n",
    "print('Using  Normal Distribution Calculator, we find that the probability of a z-score being -0.7082 or less is 0.24')\n",
    "print('The probability that the survey will show a greater percentage of Republican voters in the second state than in the first state is 0.24')"
   ]
  },
  {
   "cell_type": "code",
   "execution_count": 3,
   "metadata": {},
   "outputs": [
    {
     "name": "stdout",
     "output_type": "stream",
     "text": [
      "Problem Statement 3: How well did you score on the SAT test compared to the average test taker?\n",
      "\n",
      "The standard deviation is 0.354\n",
      "This means that your score was  above the mean by. 0.354\n",
      "\n",
      "Percentage of test-takers scored below you. A z- score of .354 is .1368 + .5000 = .6368 or 63.68%.\n"
     ]
    }
   ],
   "source": [
    "print('Problem Statement 3: How well did you score on the SAT test compared to the average test taker?')\n",
    "print('')\n",
    "print('The standard deviation is',round((1100-1026)/209,3))\n",
    "print('This means that your score was  above the mean by.',round((1100-1026)/209,3))\n",
    "print('')\n",
    "print('Percentage of test-takers scored below you. A z- score of .354 is .1368 + .5000 = .6368 or 63.68%.')"
   ]
  },
  {
   "cell_type": "code",
   "execution_count": null,
   "metadata": {},
   "outputs": [],
   "source": []
  }
 ],
 "metadata": {
  "kernelspec": {
   "display_name": "Python 3",
   "language": "python",
   "name": "python3"
  },
  "language_info": {
   "codemirror_mode": {
    "name": "ipython",
    "version": 3
   },
   "file_extension": ".py",
   "mimetype": "text/x-python",
   "name": "python",
   "nbconvert_exporter": "python",
   "pygments_lexer": "ipython3",
   "version": "3.6.6"
  }
 },
 "nbformat": 4,
 "nbformat_minor": 2
}
